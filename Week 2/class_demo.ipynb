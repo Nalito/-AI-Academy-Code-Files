{
 "cells": [
  {
   "cell_type": "markdown",
   "id": "66e8adae",
   "metadata": {},
   "source": [
    "# Introduction to Pandas and Numpy"
   ]
  },
  {
   "cell_type": "code",
   "execution_count": 1,
   "id": "ffa59902",
   "metadata": {},
   "outputs": [],
   "source": [
    "import pandas\n",
    "import numpy"
   ]
  },
  {
   "cell_type": "code",
   "execution_count": 7,
   "id": "20ff99f5",
   "metadata": {},
   "outputs": [],
   "source": [
    "# Importing with aliases\n",
    "\n",
    "import pandas as pd\n",
    "import numpy as np"
   ]
  },
  {
   "cell_type": "markdown",
   "id": "c55a823e",
   "metadata": {},
   "source": [
    "## Getting Started with Pandas"
   ]
  },
  {
   "cell_type": "code",
   "execution_count": 8,
   "id": "34d0d0cb",
   "metadata": {},
   "outputs": [
    {
     "name": "stdout",
     "output_type": "stream",
     "text": [
      "0    1\n",
      "1    2\n",
      "2    3\n",
      "3    4\n",
      "4    5\n",
      "dtype: int64\n"
     ]
    }
   ],
   "source": [
    "# Create Pandas Series\n",
    "my_list = [1, 2, 3, 4, 5]\n",
    "my_series = pd.Series(my_list)\n",
    "print(my_series)"
   ]
  },
  {
   "cell_type": "code",
   "execution_count": 9,
   "id": "2711d170",
   "metadata": {},
   "outputs": [
    {
     "name": "stdout",
     "output_type": "stream",
     "text": [
      "{'Name': ['Alice', 'Bob', 'Charlie', 'David', 'Emma'], 'Age': [25, 30, 35, 40, 45], 'City': ['New York', 'Los Angeles', 'Chicago', 'Houston', 'Phoenix']}\n"
     ]
    }
   ],
   "source": [
    "# Creating a DataFrame from a dictionary\n",
    "data = {'Name': ['Alice', 'Bob', 'Charlie', 'David', 'Emma'],\n",
    "        'Age': [25, 30, 35, 40, 45],\n",
    "        'City': ['New York', 'Los Angeles', 'Chicago', 'Houston', 'Phoenix']}\n",
    "\n",
    "print(data)"
   ]
  },
  {
   "cell_type": "code",
   "execution_count": 10,
   "id": "3e770c88",
   "metadata": {},
   "outputs": [
    {
     "name": "stdout",
     "output_type": "stream",
     "text": [
      "      Name  Age         City\n",
      "0    Alice   25     New York\n",
      "1      Bob   30  Los Angeles\n",
      "2  Charlie   35      Chicago\n",
      "3    David   40      Houston\n",
      "4     Emma   45      Phoenix\n"
     ]
    }
   ],
   "source": [
    "df = pd.DataFrame(data)\n",
    "\n",
    "# Displaying the DataFrame\n",
    "print(df)"
   ]
  },
  {
   "cell_type": "code",
   "execution_count": 11,
   "id": "7807d5f5",
   "metadata": {},
   "outputs": [
    {
     "name": "stdout",
     "output_type": "stream",
     "text": [
      "{'Couse': ['Python', 'Conda', 'LLMs'], 'Complexity': ['Beginner', 'Intermediate', 'Advanced']}\n",
      "    Couse    Complexity\n",
      "0  Python      Beginner\n",
      "1   Conda  Intermediate\n",
      "2    LLMs      Advanced\n"
     ]
    }
   ],
   "source": [
    "# Dictionary keys are column names\n",
    "# Dictionary values are data values\n",
    "\n",
    "my_dict = {'Couse': ['Python', 'Conda', 'LLMs'], 'Complexity': ['Beginner', 'Intermediate', 'Advanced']}\n",
    "print(my_dict)\n",
    "my_df = pd.DataFrame(my_dict)\n",
    "print(my_df)"
   ]
  },
  {
   "cell_type": "code",
   "execution_count": 12,
   "id": "f80d8f21",
   "metadata": {},
   "outputs": [
    {
     "name": "stdout",
     "output_type": "stream",
     "text": [
      "(5, 3)\n"
     ]
    }
   ],
   "source": [
    "# Shape of the dataset\n",
    "\n",
    "print(df.shape)"
   ]
  },
  {
   "cell_type": "code",
   "execution_count": 13,
   "id": "3ecd07cd",
   "metadata": {},
   "outputs": [
    {
     "name": "stdout",
     "output_type": "stream",
     "text": [
      "(3, 2)\n"
     ]
    }
   ],
   "source": [
    "print(my_df.shape)"
   ]
  },
  {
   "cell_type": "code",
   "execution_count": 15,
   "id": "3b350e1e",
   "metadata": {},
   "outputs": [],
   "source": [
    "# Read in a dataset\n",
    "\n",
    "sample = pd.read_csv(\"sample_100.csv\")"
   ]
  },
  {
   "cell_type": "code",
   "execution_count": 17,
   "id": "82186408",
   "metadata": {},
   "outputs": [
    {
     "name": "stdout",
     "output_type": "stream",
     "text": [
      "(100, 2)\n",
      "                                              reviews  label\n",
      "0   Absolutely wonderful - silky and sexy and comf...      1\n",
      "1   Love this dress!  it's sooo pretty.  i happene...      1\n",
      "2   I had such high hopes for this dress and reall...      0\n",
      "3   I love, love, love this jumpsuit. it's fun, fl...      1\n",
      "4   This shirt is very flattering to all due to th...      1\n",
      "..                                                ...    ...\n",
      "95  I was very excited to order this top in red xs...      0\n",
      "96  I am in need of easy comfortable tops for ever...      0\n",
      "97  At first i wasn't sure about it. the neckline ...      1\n",
      "98  I find that this brand can be a little bit all...      1\n",
      "99  This top is absolutely stunning. i purchased t...      1\n",
      "\n",
      "[100 rows x 2 columns]\n"
     ]
    }
   ],
   "source": [
    "print(sample.shape)\n",
    "print(sample)"
   ]
  },
  {
   "cell_type": "code",
   "execution_count": 20,
   "id": "fe53fd7e",
   "metadata": {},
   "outputs": [
    {
     "name": "stdout",
     "output_type": "stream",
     "text": [
      "                                              reviews  label\n",
      "0   Absolutely wonderful - silky and sexy and comf...      1\n",
      "1   Love this dress!  it's sooo pretty.  i happene...      1\n",
      "2   I had such high hopes for this dress and reall...      0\n",
      "3   I love, love, love this jumpsuit. it's fun, fl...      1\n",
      "4   This shirt is very flattering to all due to th...      1\n",
      "5   I love tracy reese dresses, but this one is no...      0\n",
      "6   I aded this in my basket at hte last mintue to...      1\n",
      "7   I ordered this in carbon for store pick up, an...      0\n",
      "8   I love this dress. i usually get an xs but it ...      1\n",
      "9   I'm 5\"5' and 125 lbs. i ordered the s petite t...      1\n",
      "10  Dress runs small esp where the zipper area run...      0\n",
      "11  This dress is perfection! so pretty and flatte...      1\n",
      "12  More and more i find myself reliant on the rev...      1\n",
      "13  Bought the black xs to go under the larkspur m...      0\n"
     ]
    }
   ],
   "source": [
    "# Get the first five rows\n",
    "\n",
    "print(sample.head(14))"
   ]
  },
  {
   "cell_type": "code",
   "execution_count": 21,
   "id": "07b0b279",
   "metadata": {},
   "outputs": [
    {
     "name": "stdout",
     "output_type": "stream",
     "text": [
      "                                              reviews  label\n",
      "92  This shirt caught my eye because of how beauti...      0\n",
      "93  Purchased this top online, and when i received...      1\n",
      "94  I usually wear a medium and bought a small. it...      0\n",
      "95  I was very excited to order this top in red xs...      0\n",
      "96  I am in need of easy comfortable tops for ever...      0\n",
      "97  At first i wasn't sure about it. the neckline ...      1\n",
      "98  I find that this brand can be a little bit all...      1\n",
      "99  This top is absolutely stunning. i purchased t...      1\n"
     ]
    }
   ],
   "source": [
    "# Get the last 5 rows\n",
    "\n",
    "print(sample.tail(8))"
   ]
  },
  {
   "cell_type": "code",
   "execution_count": 22,
   "id": "c3f8db45",
   "metadata": {},
   "outputs": [
    {
     "name": "stdout",
     "output_type": "stream",
     "text": [
      "      Name  Age         City\n",
      "0    Alice   25     New York\n",
      "1      Bob   30  Los Angeles\n",
      "2  Charlie   35      Chicago\n",
      "3    David   40      Houston\n",
      "4     Emma   45      Phoenix\n"
     ]
    }
   ],
   "source": [
    "print(df)"
   ]
  },
  {
   "cell_type": "code",
   "execution_count": 23,
   "id": "a45cd16f",
   "metadata": {},
   "outputs": [
    {
     "name": "stdout",
     "output_type": "stream",
     "text": [
      "0      Alice\n",
      "1        Bob\n",
      "2    Charlie\n",
      "3      David\n",
      "4       Emma\n",
      "Name: Name, dtype: object\n"
     ]
    }
   ],
   "source": [
    "# Accessing columns\n",
    "\n",
    "print(df['Name'])"
   ]
  },
  {
   "cell_type": "code",
   "execution_count": 24,
   "id": "c67c6096",
   "metadata": {},
   "outputs": [
    {
     "name": "stdout",
     "output_type": "stream",
     "text": [
      "0    25\n",
      "1    30\n",
      "2    35\n",
      "3    40\n",
      "4    45\n",
      "Name: Age, dtype: int64\n"
     ]
    }
   ],
   "source": [
    "print(df['Age'])"
   ]
  },
  {
   "cell_type": "code",
   "execution_count": 25,
   "id": "725bb66e",
   "metadata": {},
   "outputs": [
    {
     "name": "stdout",
     "output_type": "stream",
     "text": [
      "      Name         City\n",
      "0    Alice     New York\n",
      "1      Bob  Los Angeles\n",
      "2  Charlie      Chicago\n",
      "3    David      Houston\n",
      "4     Emma      Phoenix\n"
     ]
    }
   ],
   "source": [
    "# Slicing \n",
    "\n",
    "print(df[['Name', 'City']])"
   ]
  },
  {
   "cell_type": "code",
   "execution_count": 26,
   "id": "e3e63b8c",
   "metadata": {},
   "outputs": [
    {
     "name": "stdout",
     "output_type": "stream",
     "text": [
      "Name            Bob\n",
      "Age              30\n",
      "City    Los Angeles\n",
      "Name: 1, dtype: object\n"
     ]
    }
   ],
   "source": [
    "# iloc (index locate) VS loc (locate)\n",
    "\n",
    "print(df.iloc[1])"
   ]
  },
  {
   "cell_type": "code",
   "execution_count": 30,
   "id": "ad7fd206",
   "metadata": {},
   "outputs": [
    {
     "name": "stdout",
     "output_type": "stream",
     "text": [
      "Bob\n"
     ]
    }
   ],
   "source": [
    "print(df.iloc[1,0])"
   ]
  },
  {
   "cell_type": "code",
   "execution_count": 32,
   "id": "61ab6111",
   "metadata": {},
   "outputs": [
    {
     "name": "stdout",
     "output_type": "stream",
     "text": [
      "Alice\n"
     ]
    }
   ],
   "source": [
    "print(df.loc[0, 'Name'])"
   ]
  },
  {
   "cell_type": "code",
   "execution_count": 34,
   "id": "0f9567e2",
   "metadata": {},
   "outputs": [
    {
     "name": "stdout",
     "output_type": "stream",
     "text": [
      "0    25\n",
      "1    30\n",
      "2    35\n",
      "3    40\n",
      "4    45\n",
      "Name: Age, dtype: int64\n"
     ]
    }
   ],
   "source": [
    "print(df.loc[:, \"Age\"])"
   ]
  },
  {
   "cell_type": "code",
   "execution_count": 35,
   "id": "72c4b340",
   "metadata": {},
   "outputs": [
    {
     "name": "stdout",
     "output_type": "stream",
     "text": [
      "      Name         City\n",
      "0    Alice     New York\n",
      "1      Bob  Los Angeles\n",
      "2  Charlie      Chicago\n",
      "3    David      Houston\n",
      "4     Emma      Phoenix\n"
     ]
    }
   ],
   "source": [
    "print(df.loc[:, [\"Name\", \"City\"]])"
   ]
  },
  {
   "cell_type": "code",
   "execution_count": 36,
   "id": "875fe7e4",
   "metadata": {},
   "outputs": [
    {
     "name": "stdout",
     "output_type": "stream",
     "text": [
      "      Name         City\n",
      "1      Bob  Los Angeles\n",
      "2  Charlie      Chicago\n",
      "3    David      Houston\n"
     ]
    }
   ],
   "source": [
    "print(df.loc[1:3, [\"Name\", \"City\"]])"
   ]
  },
  {
   "cell_type": "code",
   "execution_count": 37,
   "id": "ab8b0cfb",
   "metadata": {},
   "outputs": [
    {
     "name": "stdout",
     "output_type": "stream",
     "text": [
      "(5, 3)\n"
     ]
    }
   ],
   "source": [
    "print(df.shape)"
   ]
  },
  {
   "cell_type": "code",
   "execution_count": 43,
   "id": "511c5502",
   "metadata": {},
   "outputs": [
    {
     "name": "stdout",
     "output_type": "stream",
     "text": [
      "      Name  Age         City  Gender\n",
      "0    Alice   25     New York    male\n",
      "1      Bob   30  Los Angeles  female\n",
      "2  Charlie   35      Chicago  female\n",
      "3    David   40      Houston    male\n",
      "4     Emma   45      Phoenix    male\n"
     ]
    }
   ],
   "source": [
    "# Adding a new column\n",
    "\n",
    "df['Gender'] = ['male', 'female', 'female', 'male', 'male']\n",
    "print(df)"
   ]
  },
  {
   "cell_type": "code",
   "execution_count": 44,
   "id": "26b142ce",
   "metadata": {},
   "outputs": [
    {
     "name": "stdout",
     "output_type": "stream",
     "text": [
      "      Name  Age         City  Gender\n",
      "0    Alice   25     New York    male\n",
      "1      Bob   30  Los Angeles  female\n",
      "2  Charlie   35      Chicago  female\n",
      "3    David   40      Houston    male\n",
      "4     Emma   45      Phoenix    male\n",
      "\n",
      "DataFrame after renaming column:\n",
      "      Name  Age         City  gender\n",
      "0    Alice   25     New York    male\n",
      "1      Bob   30  Los Angeles  female\n",
      "2  Charlie   35      Chicago  female\n",
      "3    David   40      Houston    male\n",
      "4     Emma   45      Phoenix    male\n"
     ]
    }
   ],
   "source": [
    "# Renaming a column\n",
    "\n",
    "print(df)\n",
    "df.rename(columns={'Gender': 'gender'}, inplace=True)\n",
    "print(\"\\nDataFrame after renaming column:\")\n",
    "print(df)"
   ]
  },
  {
   "cell_type": "code",
   "execution_count": 45,
   "id": "0a660bb2",
   "metadata": {},
   "outputs": [
    {
     "name": "stdout",
     "output_type": "stream",
     "text": [
      "      Name  Age         City  gender\n",
      "0    Alice   25     New York    male\n",
      "1      Bob   30  Los Angeles  female\n",
      "2  Charlie   35      Chicago  female\n",
      "3    David   40      Houston    male\n",
      "4     Emma   45      Phoenix    male\n",
      "\n",
      "      Name  Age         City\n",
      "0    Alice   25     New York\n",
      "1      Bob   30  Los Angeles\n",
      "2  Charlie   35      Chicago\n",
      "3    David   40      Houston\n",
      "4     Emma   45      Phoenix\n"
     ]
    }
   ],
   "source": [
    "# Dropping a column\n",
    "\n",
    "## Inplace\n",
    "print(df)\n",
    "df.drop(['gender'], axis=1, inplace=True)\n",
    "print(\"\")\n",
    "print(df)"
   ]
  },
  {
   "cell_type": "code",
   "execution_count": 47,
   "id": "845d661e",
   "metadata": {},
   "outputs": [
    {
     "name": "stdout",
     "output_type": "stream",
     "text": [
      "      Name  Age         City\n",
      "0    Alice   25     New York\n",
      "1      Bob   30  Los Angeles\n",
      "2  Charlie   35      Chicago\n",
      "3    David   40      Houston\n",
      "4     Emma   45      Phoenix\n",
      "\n",
      "      Name  Age\n",
      "0    Alice   25\n",
      "1      Bob   30\n",
      "2  Charlie   35\n",
      "3    David   40\n",
      "4     Emma   45\n"
     ]
    }
   ],
   "source": [
    "# By assignment\n",
    "print(df)\n",
    "df = df.drop([''], axis=1)\n",
    "print(\"\")\n",
    "print(df)"
   ]
  },
  {
   "cell_type": "code",
   "execution_count": 55,
   "id": "e56d67f9",
   "metadata": {},
   "outputs": [
    {
     "name": "stdout",
     "output_type": "stream",
     "text": [
      "\n",
      "DataFrame with missing values:\n",
      "     A  B\n",
      "0  1.0  5\n",
      "1  2.0  6\n",
      "2  NaN  7\n",
      "3  4.0  8\n"
     ]
    }
   ],
   "source": [
    "# Handling missing values\n",
    "data_with_missing = {'A': [1, 2, None, 4],\n",
    "                     'B': [5, 6, 7, 8]}\n",
    "df_with_missing = pd.DataFrame(data_with_missing)\n",
    "print(\"\\nDataFrame with missing values:\")\n",
    "print(df_with_missing)"
   ]
  },
  {
   "cell_type": "code",
   "execution_count": 56,
   "id": "dfac21d1",
   "metadata": {},
   "outputs": [],
   "source": [
    "# For numbers: use either mean or median\n",
    "# For text: use mode"
   ]
  },
  {
   "cell_type": "code",
   "execution_count": 59,
   "id": "b13c8f58",
   "metadata": {},
   "outputs": [
    {
     "name": "stdout",
     "output_type": "stream",
     "text": [
      "\n",
      "DataFrame after filling missing values:\n",
      "     A  B\n",
      "0  1.0  5\n",
      "1  2.0  6\n",
      "2  0.0  7\n",
      "3  4.0  8\n"
     ]
    }
   ],
   "source": [
    "# Filling missing values\n",
    "\n",
    "df_with_missing.fillna(0, inplace=True)\n",
    "print(\"\\nDataFrame after filling missing values:\")\n",
    "print(df_with_missing)"
   ]
  },
  {
   "cell_type": "code",
   "execution_count": 60,
   "id": "e498601e",
   "metadata": {},
   "outputs": [
    {
     "name": "stdout",
     "output_type": "stream",
     "text": [
      "     A  B  gender\n",
      "0  1.0  5    None\n",
      "1  2.0  6    male\n",
      "2  0.0  7    male\n",
      "3  4.0  8  female\n"
     ]
    }
   ],
   "source": [
    "df_with_missing['gender'] = [None, 'male', 'male', 'female']\n",
    "print(df_with_missing)"
   ]
  },
  {
   "cell_type": "code",
   "execution_count": 61,
   "id": "d65db1bf",
   "metadata": {},
   "outputs": [
    {
     "name": "stdout",
     "output_type": "stream",
     "text": [
      "     A  B  gender\n",
      "0  1.0  5    None\n",
      "1  2.0  6    male\n",
      "2  0.0  7    male\n",
      "3  4.0  8  female\n",
      "     A  B  gender\n",
      "0  1.0  5    male\n",
      "1  2.0  6    male\n",
      "2  0.0  7    male\n",
      "3  4.0  8  female\n"
     ]
    }
   ],
   "source": [
    "mode_ = df_with_missing['gender'].mode()\n",
    "print(df_with_missing)\n",
    "df_with_missing['gender'].fillna(mode_, inplace = True)\n",
    "print(df_with_missing)"
   ]
  },
  {
   "cell_type": "code",
   "execution_count": 62,
   "id": "c497507c",
   "metadata": {},
   "outputs": [
    {
     "name": "stdout",
     "output_type": "stream",
     "text": [
      "0    male\n",
      "Name: gender, dtype: object\n"
     ]
    }
   ],
   "source": [
    "print(mode_)"
   ]
  },
  {
   "cell_type": "code",
   "execution_count": 66,
   "id": "ce87d17c",
   "metadata": {},
   "outputs": [],
   "source": [
    "df['gender'] = ['male', 'male', 'female', 'female', 'male']"
   ]
  },
  {
   "cell_type": "code",
   "execution_count": 68,
   "id": "0ba98460",
   "metadata": {},
   "outputs": [
    {
     "name": "stdout",
     "output_type": "stream",
     "text": [
      "      Name  Age  gender\n",
      "0    Alice   25    male\n",
      "1      Bob   30    male\n",
      "2  Charlie   35  female\n",
      "3    David   40  female\n",
      "4     Emma   45    male\n"
     ]
    }
   ],
   "source": [
    "print(df)"
   ]
  },
  {
   "cell_type": "code",
   "execution_count": 71,
   "id": "e897c275",
   "metadata": {},
   "outputs": [
    {
     "name": "stdout",
     "output_type": "stream",
     "text": [
      "\n",
      "Aggregating data:\n",
      "gender\n",
      "female    37.5\n",
      "male      30.0\n",
      "Name: Age, dtype: float64\n"
     ]
    }
   ],
   "source": [
    "print(\"\\nAggregating data:\")\n",
    "print(df.groupby('gender')['Age'].median()) "
   ]
  },
  {
   "cell_type": "code",
   "execution_count": 73,
   "id": "5a898776",
   "metadata": {},
   "outputs": [
    {
     "name": "stdout",
     "output_type": "stream",
     "text": [
      "df1: \n",
      "   A  B\n",
      "0  1  4\n",
      "1  2  5\n",
      "2  3  6 \n",
      "df2: \n",
      "   A   B\n",
      "0  7  10\n",
      "1  8  11\n",
      "2  9  12\n"
     ]
    }
   ],
   "source": [
    "# Concatenating two datasets\n",
    "data1 = {'A': [1, 2, 3],\n",
    "         'B': [4, 5, 6]}\n",
    "\n",
    "data2 = {'A': [7, 8, 9],\n",
    "            'B': [10, 11, 12]}\n",
    "\n",
    "df1 = pd.DataFrame(data1)\n",
    "df2 = pd.DataFrame(data2)\n",
    "\n",
    "print(f\"df1: \\n{df1} \\ndf2: \\n{df2}\")"
   ]
  },
  {
   "cell_type": "code",
   "execution_count": 74,
   "id": "03e8885c",
   "metadata": {},
   "outputs": [
    {
     "name": "stdout",
     "output_type": "stream",
     "text": [
      "\n",
      "Concatenated DataFrame:\n",
      "   A   B\n",
      "0  1   4\n",
      "1  2   5\n",
      "2  3   6\n",
      "0  7  10\n",
      "1  8  11\n",
      "2  9  12\n"
     ]
    }
   ],
   "source": [
    "df_concatenated = pd.concat([df1, df2])\n",
    "print(\"\\nConcatenated DataFrame:\")\n",
    "print(df_concatenated)"
   ]
  },
  {
   "cell_type": "code",
   "execution_count": 75,
   "id": "786aa3f8",
   "metadata": {},
   "outputs": [
    {
     "name": "stdout",
     "output_type": "stream",
     "text": [
      "      Name  Age  gender\n",
      "0    Alice   25    male\n",
      "1      Bob   30    male\n",
      "2  Charlie   35  female\n",
      "3    David   40  female\n",
      "4     Emma   45    male\n"
     ]
    }
   ],
   "source": [
    "print(df)"
   ]
  },
  {
   "cell_type": "code",
   "execution_count": 87,
   "id": "6fc969a9",
   "metadata": {},
   "outputs": [],
   "source": [
    "# Saving a csv file\n",
    "\n",
    "df_with_missing.to_csv(\"class_data1.csv\", index=False)"
   ]
  },
  {
   "cell_type": "code",
   "execution_count": 88,
   "id": "2fce0056",
   "metadata": {},
   "outputs": [],
   "source": [
    "_ = pd.read_csv(\"class_data1.csv\")"
   ]
  },
  {
   "cell_type": "code",
   "execution_count": 89,
   "id": "768b5c8e",
   "metadata": {},
   "outputs": [
    {
     "name": "stdout",
     "output_type": "stream",
     "text": [
      "     A  B  gender\n",
      "0  1.0  5    male\n",
      "1  2.0  6    male\n",
      "2  0.0  7    male\n",
      "3  4.0  8  female\n"
     ]
    }
   ],
   "source": [
    "print(_)"
   ]
  },
  {
   "cell_type": "markdown",
   "id": "0dfa2c18",
   "metadata": {},
   "source": [
    "## Getting started with numPy"
   ]
  },
  {
   "cell_type": "code",
   "execution_count": 90,
   "id": "ec5fca29",
   "metadata": {},
   "outputs": [
    {
     "name": "stdout",
     "output_type": "stream",
     "text": [
      "1D Array:\n",
      "[1 2 3 4 5]\n"
     ]
    }
   ],
   "source": [
    "# Creating a 1D array\n",
    "\n",
    "arr_1d = np.array([1, 2, 3, 4, 5])\n",
    "print(\"1D Array:\")\n",
    "print(arr_1d)"
   ]
  },
  {
   "cell_type": "code",
   "execution_count": 91,
   "id": "8799953a",
   "metadata": {},
   "outputs": [
    {
     "name": "stdout",
     "output_type": "stream",
     "text": [
      "<class 'numpy.ndarray'>\n"
     ]
    }
   ],
   "source": [
    "print(type(arr_1d))"
   ]
  },
  {
   "cell_type": "code",
   "execution_count": 92,
   "id": "966f20dc",
   "metadata": {},
   "outputs": [
    {
     "name": "stdout",
     "output_type": "stream",
     "text": [
      "\n",
      "2D Array:\n",
      "[[1 2 3]\n",
      " [4 5 6]\n",
      " [7 8 9]]\n"
     ]
    }
   ],
   "source": [
    "# Creating a 2D array (matrix)\n",
    "\n",
    "arr_2d = np.array([[1, 2, 3], [4, 5, 6], [7, 8, 9]])\n",
    "print(\"\\n2D Array:\")\n",
    "print(arr_2d)"
   ]
  },
  {
   "cell_type": "code",
   "execution_count": 93,
   "id": "f7042a04",
   "metadata": {},
   "outputs": [
    {
     "name": "stdout",
     "output_type": "stream",
     "text": [
      "\n",
      "Shape of the array:\n",
      "(3, 3)\n",
      "\n",
      "Number of dimensions:\n",
      "2\n",
      "\n",
      "Data type of the elements:\n",
      "int64\n"
     ]
    }
   ],
   "source": [
    "# Shape of the array\n",
    "print(\"\\nShape of the array:\")\n",
    "print(arr_2d.shape)\n",
    "\n",
    "# Number of dimensions\n",
    "print(\"\\nNumber of dimensions:\")\n",
    "print(arr_2d.ndim)\n",
    "\n",
    "# Data type of the elements\n",
    "print(\"\\nData type of the elements:\")\n",
    "print(arr_2d.dtype)"
   ]
  },
  {
   "cell_type": "code",
   "execution_count": 94,
   "id": "daef4239",
   "metadata": {},
   "outputs": [
    {
     "name": "stdout",
     "output_type": "stream",
     "text": [
      "float64\n"
     ]
    }
   ],
   "source": [
    "arr = np.array([[0.1, 0.2], [2.1, 2.2]])\n",
    "print(arr.dtype)"
   ]
  },
  {
   "cell_type": "code",
   "execution_count": 95,
   "id": "e303fe00",
   "metadata": {},
   "outputs": [
    {
     "name": "stdout",
     "output_type": "stream",
     "text": [
      "[[1 2 3]\n",
      " [4 5 6]\n",
      " [7 8 9]]\n"
     ]
    }
   ],
   "source": [
    "print(arr_2d)"
   ]
  },
  {
   "cell_type": "code",
   "execution_count": 96,
   "id": "da1db3bb",
   "metadata": {},
   "outputs": [
    {
     "name": "stdout",
     "output_type": "stream",
     "text": [
      "\n",
      "Accessing elements:\n",
      "1\n",
      "5\n"
     ]
    }
   ],
   "source": [
    "# Accessing elements\n",
    "print(\"\\nAccessing elements:\")\n",
    "print(arr_2d[0, 0])  \n",
    "print(arr_2d[1, 1])"
   ]
  },
  {
   "cell_type": "code",
   "execution_count": 99,
   "id": "87ed5ca1",
   "metadata": {},
   "outputs": [
    {
     "name": "stdout",
     "output_type": "stream",
     "text": [
      "\n",
      "Accessing elements:\n",
      "[[1 2]\n",
      " [4 5]]\n",
      "\n",
      "[4 5 6]\n"
     ]
    }
   ],
   "source": [
    "# Accessing multiple elements\n",
    "print(\"\\nAccessing elements:\")\n",
    "print(arr_2d[0:2, 0:2])  \n",
    "print(\"\")\n",
    "print(arr_2d[1, :])"
   ]
  },
  {
   "cell_type": "code",
   "execution_count": 104,
   "id": "a23a18fd",
   "metadata": {},
   "outputs": [
    {
     "name": "stdout",
     "output_type": "stream",
     "text": [
      "\n",
      "Sequence of values:\n",
      "[  1.  12.  23.  34.  45.  56.  67.  78.  89. 100.]\n"
     ]
    }
   ],
   "source": [
    "# Create a sequence of of values with linspace\n",
    "\n",
    "# np.linspace(start, stop, how many values?)\n",
    "arr = np.linspace(1, 100, 10)\n",
    "print(\"\\nSequence of values:\")\n",
    "print(arr)"
   ]
  },
  {
   "cell_type": "code",
   "execution_count": 107,
   "id": "7dc007a3",
   "metadata": {},
   "outputs": [
    {
     "name": "stdout",
     "output_type": "stream",
     "text": [
      "[[1 2 3]\n",
      " [4 5 6]]\n",
      "(2, 3)\n",
      "\n",
      "[1 2 3 4 5 6]\n",
      "(6,)\n"
     ]
    }
   ],
   "source": [
    "# Flatten array \n",
    "\n",
    "arr = np.array([[1, 2, 3], [4, 5, 6]]) \n",
    "print(arr)\n",
    "print(arr.shape)\n",
    "\n",
    "print(\"\")\n",
    "flat_arr = arr.flatten() \n",
    "print(flat_arr)\n",
    "print(flat_arr.shape)"
   ]
  },
  {
   "cell_type": "code",
   "execution_count": 108,
   "id": "532eab5e",
   "metadata": {},
   "outputs": [],
   "source": [
    "a = np.array([1, 2, 5, 3]) "
   ]
  },
  {
   "cell_type": "code",
   "execution_count": 111,
   "id": "1898ecbc",
   "metadata": {},
   "outputs": [
    {
     "name": "stdout",
     "output_type": "stream",
     "text": [
      "[2, 3, 6, 4]\n"
     ]
    }
   ],
   "source": [
    "my_list = [1, 2, 5, 3]\n",
    "\n",
    "for index in range(len(my_list)):\n",
    "    val = my_list[index] + 1\n",
    "    my_list[index] = val\n",
    "    \n",
    "print(my_list)"
   ]
  },
  {
   "cell_type": "code",
   "execution_count": 112,
   "id": "fbe41f61",
   "metadata": {},
   "outputs": [
    {
     "name": "stdout",
     "output_type": "stream",
     "text": [
      "[2 3 6 4]\n"
     ]
    }
   ],
   "source": [
    "print(a+1)"
   ]
  },
  {
   "cell_type": "code",
   "execution_count": 113,
   "id": "e474b3af",
   "metadata": {},
   "outputs": [
    {
     "name": "stdout",
     "output_type": "stream",
     "text": [
      "[-2 -1  2  0]\n"
     ]
    }
   ],
   "source": [
    "print(a-3)"
   ]
  },
  {
   "cell_type": "code",
   "execution_count": 114,
   "id": "d936b07d",
   "metadata": {},
   "outputs": [
    {
     "name": "stdout",
     "output_type": "stream",
     "text": [
      "[  1   8 125  27]\n"
     ]
    }
   ],
   "source": [
    "# Raise to power\n",
    "\n",
    "print(a**3)"
   ]
  },
  {
   "cell_type": "code",
   "execution_count": 115,
   "id": "b4b30bb3",
   "metadata": {},
   "outputs": [
    {
     "name": "stdout",
     "output_type": "stream",
     "text": [
      "[  2.71828183   7.3890561  148.4131591   20.08553692]\n"
     ]
    }
   ],
   "source": [
    "# Exponential\n",
    "\n",
    "print(np.exp(a))"
   ]
  },
  {
   "cell_type": "code",
   "execution_count": 116,
   "id": "08be7272",
   "metadata": {},
   "outputs": [
    {
     "name": "stdout",
     "output_type": "stream",
     "text": [
      "[1.         1.41421356 2.23606798 1.73205081]\n"
     ]
    }
   ],
   "source": [
    "# Square root\n",
    "print(np.sqrt(a))"
   ]
  },
  {
   "cell_type": "code",
   "execution_count": 118,
   "id": "0ec0c383",
   "metadata": {},
   "outputs": [
    {
     "name": "stdout",
     "output_type": "stream",
     "text": [
      "Doubled each element of original array: [ 4  8 20 12]\n"
     ]
    }
   ],
   "source": [
    "# modify existing array \n",
    "\n",
    "a *= 2 # Same as {{a = a * 2}}\n",
    "print (\"Doubled each element of original array:\", a) "
   ]
  },
  {
   "cell_type": "code",
   "execution_count": 121,
   "id": "83fdacf8",
   "metadata": {},
   "outputs": [
    {
     "name": "stdout",
     "output_type": "stream",
     "text": [
      "\n",
      "Original array:\n",
      " [[1 2 3]\n",
      " [3 4 5]]\n",
      "(2, 3)\n",
      "Transpose of array:\n",
      " [[1 3]\n",
      " [2 4]\n",
      " [3 5]]\n",
      "(3, 2)\n"
     ]
    }
   ],
   "source": [
    "# transpose of array \n",
    "a = np.array([[1, 2, 3], [3, 4, 5]]) \n",
    "\n",
    "print (\"\\nOriginal array:\\n\", a) \n",
    "print(a.shape)\n",
    "print (\"Transpose of array:\\n\", a.T) \n",
    "print(a.T.shape)"
   ]
  },
  {
   "cell_type": "code",
   "execution_count": 122,
   "id": "197e7ca1",
   "metadata": {},
   "outputs": [
    {
     "name": "stdout",
     "output_type": "stream",
     "text": [
      "arr1:\n",
      "[[1 2]\n",
      " [3 4]]\n",
      "arr2:\n",
      "[[5 6]\n",
      " [7 8]]\n",
      "Addition:\n",
      "[[ 6  8]\n",
      " [10 12]]\n",
      "Multiplication:\n",
      "[[ 5 12]\n",
      " [21 32]]\n"
     ]
    }
   ],
   "source": [
    "arr1 = np.array([[1, 2], [3, 4]])\n",
    "arr2 = np.array([[5, 6], [7, 8]])\n",
    "print(f\"arr1:\\n{arr1}\\narr2:\\n{arr2}\")\n",
    "\n",
    "print(\"Addition:\")\n",
    "print(arr1 + arr2)\n",
    "\n",
    "print(\"Multiplication:\")\n",
    "print(arr1 * arr2)"
   ]
  },
  {
   "cell_type": "code",
   "execution_count": 130,
   "id": "57fa970f",
   "metadata": {},
   "outputs": [
    {
     "name": "stdout",
     "output_type": "stream",
     "text": [
      "[0 1 2 3 4 5 6 7 8 9]\n",
      "\n",
      "0\n",
      "1\n",
      "2\n",
      "3\n",
      "4\n",
      "5\n",
      "6\n",
      "7\n",
      "8\n",
      "9\n"
     ]
    }
   ],
   "source": [
    "# arange in numpy is the same as range\n",
    "\n",
    "print(np.arange(0, 10))\n",
    "print(\"\")\n",
    "for i in range(0, 10):\n",
    "    print(i)"
   ]
  },
  {
   "cell_type": "code",
   "execution_count": 134,
   "id": "17ad0fd5",
   "metadata": {},
   "outputs": [
    {
     "name": "stdout",
     "output_type": "stream",
     "text": [
      "\n",
      "Reshaping arrays:\n",
      "Original array:\n",
      "[1 2 3 4 5 6 7 8 9]\n",
      "Reshaped array:\n",
      "[[1 2 3]\n",
      " [4 5 6]\n",
      " [7 8 9]]\n"
     ]
    }
   ],
   "source": [
    "# Reshaping arrays\n",
    "\n",
    "print(\"\\nReshaping arrays:\")\n",
    "arr = np.arange(1, 10)\n",
    "print(\"Original array:\")\n",
    "print(arr)\n",
    "\n",
    "# Make sure the length of the array matches the reshape arguments\n",
    "reshaped_arr = arr.reshape(3, 3)\n",
    "print(\"Reshaped array:\")\n",
    "print(reshaped_arr)"
   ]
  },
  {
   "cell_type": "code",
   "execution_count": 132,
   "id": "31b8783d",
   "metadata": {},
   "outputs": [
    {
     "data": {
      "text/plain": [
       "(3, 3)"
      ]
     },
     "execution_count": 132,
     "metadata": {},
     "output_type": "execute_result"
    }
   ],
   "source": [
    "reshaped_arr.shape"
   ]
  },
  {
   "cell_type": "code",
   "execution_count": 135,
   "id": "75223ce6",
   "metadata": {},
   "outputs": [
    {
     "name": "stdout",
     "output_type": "stream",
     "text": [
      "[[1 2]\n",
      " [3 4]]\n",
      "[[5 6]\n",
      " [7 8]]\n",
      "\n",
      "\n",
      "Stacking arrays:\n",
      "Vertical stack:\n",
      "[[1 2]\n",
      " [3 4]\n",
      " [5 6]\n",
      " [7 8]]\n",
      "Horizontal stack:\n",
      "[[1 2 5 6]\n",
      " [3 4 7 8]]\n"
     ]
    }
   ],
   "source": [
    "# Stacking arrays\n",
    "\n",
    "print(arr1)\n",
    "print(arr2)\n",
    "print(\"\")\n",
    "\n",
    "print(\"\\nStacking arrays:\")\n",
    "stacked_arr = np.vstack((arr1, arr2))\n",
    "print(\"Vertical stack:\")\n",
    "print(stacked_arr)\n",
    "stacked_arr = np.hstack((arr1, arr2))\n",
    "print(\"Horizontal stack:\")\n",
    "print(stacked_arr)"
   ]
  },
  {
   "cell_type": "code",
   "execution_count": 137,
   "id": "3c30064d",
   "metadata": {},
   "outputs": [
    {
     "name": "stdout",
     "output_type": "stream",
     "text": [
      "\n",
      "Random number generation:\n",
      "[[1 1 8]\n",
      " [5 9 6]\n",
      " [3 9 4]]\n"
     ]
    }
   ],
   "source": [
    "# Random number generation\n",
    "\n",
    "print(\"\\nRandom number generation:\")\n",
    "rand_arr = np.random.randint(1, 10, size=(3, 3))\n",
    "print(rand_arr)"
   ]
  },
  {
   "cell_type": "code",
   "execution_count": 138,
   "id": "767e87fe",
   "metadata": {},
   "outputs": [
    {
     "name": "stdout",
     "output_type": "stream",
     "text": [
      "\n",
      "Loaded array:\n",
      "[[1 1 8]\n",
      " [5 9 6]\n",
      " [3 9 4]]\n"
     ]
    }
   ],
   "source": [
    "# Saving and loading arrays\n",
    "\n",
    "# Save\n",
    "np.save('saved_array.npy', rand_arr) \n",
    "\n",
    "# Load\n",
    "loaded_arr = np.load('saved_array.npy')  \n",
    "\n",
    "print(\"\\nLoaded array:\")\n",
    "print(loaded_arr)"
   ]
  },
  {
   "cell_type": "code",
   "execution_count": 141,
   "id": "e6efad50",
   "metadata": {},
   "outputs": [
    {
     "name": "stdout",
     "output_type": "stream",
     "text": [
      "[[1 2 3]\n",
      " [2 3 4]\n",
      " [2 4 6]\n",
      " [3 5 1]]\n",
      "\n",
      "Sum of all elements: 36\n",
      "Mean of all elements: 3.0\n",
      "Median of all elements: 3.0\n",
      "Maximum element: 6\n",
      "Minimum element: 1\n"
     ]
    }
   ],
   "source": [
    "# Matrix operations and functions\n",
    "\n",
    "matrix = np.array([[1, 2, 3], [2, 3, 4], [2, 4, 6], [3, 5, 1]])\n",
    "print(matrix)\n",
    "\n",
    "# Sum of all elements\n",
    "print(\"\\nSum of all elements:\", np.sum(matrix))\n",
    "\n",
    "# Mean of all elements\n",
    "print(\"Mean of all elements:\", np.mean(matrix))\n",
    "\n",
    "# Median of all elements\n",
    "print(\"Median of all elements:\", np.median(matrix))\n",
    "\n",
    "# Max and min elements\n",
    "print(\"Maximum element:\", np.max(matrix))\n",
    "print(\"Minimum element:\", np.min(matrix))"
   ]
  },
  {
   "cell_type": "code",
   "execution_count": 145,
   "id": "cc63702d",
   "metadata": {},
   "outputs": [
    {
     "name": "stdout",
     "output_type": "stream",
     "text": [
      "(3, 3)\n",
      "\n",
      "Determinant of matrix:\n",
      "-6874.000000000006\n"
     ]
    }
   ],
   "source": [
    "# Finding the determinant of a matrix\n",
    "# linalg - Linear Algebra\n",
    "# det - Determinant\n",
    "\n",
    "matrix = np.array([[11, 2, 31], [22, 32, 49], [29, 4, 60]])\n",
    "print(matrix.shape)\n",
    "print(\"\\nDeterminant of matrix:\")\n",
    "determinant = np.linalg.det(matrix)\n",
    "print(determinant)"
   ]
  },
  {
   "cell_type": "code",
   "execution_count": 146,
   "id": "8124293a",
   "metadata": {},
   "outputs": [
    {
     "name": "stdout",
     "output_type": "stream",
     "text": [
      "\n",
      "Inverse of matrix:\n",
      "[[-2.   1. ]\n",
      " [ 1.5 -0.5]]\n"
     ]
    }
   ],
   "source": [
    "# Finding the inverse of a matrix\n",
    "\n",
    "matrix = np.array([[1, 2],\n",
    "                    [3, 4]])\n",
    "\n",
    "print(\"\\nInverse of matrix:\")\n",
    "inverse_matrix = np.linalg.inv(matrix)\n",
    "print(inverse_matrix)"
   ]
  },
  {
   "cell_type": "code",
   "execution_count": 147,
   "id": "8f4f277d",
   "metadata": {},
   "outputs": [
    {
     "name": "stdout",
     "output_type": "stream",
     "text": [
      "[[2 1]\n",
      " [1 1]]\n",
      "\n",
      "[4 3]\n",
      "\n",
      "Solving linear equations:\n",
      "Solution: [1. 2.]\n"
     ]
    }
   ],
   "source": [
    "# Solving linear equations\n",
    "\n",
    "A = np.array([[2, 1], [1, 1]])\n",
    "print(A)\n",
    "print(\"\")\n",
    "b = np.array([4, 3])\n",
    "print(b)\n",
    "\n",
    "print(\"\\nSolving linear equations:\")\n",
    "x = np.linalg.solve(A, b)\n",
    "print(\"Solution:\", x)"
   ]
  },
  {
   "cell_type": "code",
   "execution_count": 149,
   "id": "4f9ee0ee",
   "metadata": {},
   "outputs": [
    {
     "name": "stdout",
     "output_type": "stream",
     "text": [
      "[[ 1  1]\n",
      " [ 1 -1]]\n",
      "\n",
      "[ 3 -1]\n"
     ]
    }
   ],
   "source": [
    "A = np.array([[1, 1], [1, -1]])\n",
    "print(A)\n",
    "print(\"\")\n",
    "b = np.array([3, -1])\n",
    "print(b)"
   ]
  },
  {
   "cell_type": "code",
   "execution_count": 150,
   "id": "15cc5d19",
   "metadata": {},
   "outputs": [
    {
     "name": "stdout",
     "output_type": "stream",
     "text": [
      "[1. 2.]\n"
     ]
    }
   ],
   "source": [
    "answer = np.linalg.solve(A, b)\n",
    "print(answer)"
   ]
  },
  {
   "cell_type": "code",
   "execution_count": 151,
   "id": "7b6cd57b",
   "metadata": {},
   "outputs": [
    {
     "name": "stdout",
     "output_type": "stream",
     "text": [
      "1.0 2.0\n"
     ]
    }
   ],
   "source": [
    "x = answer[0]\n",
    "y = answer[1]\n",
    "\n",
    "print(x, y)"
   ]
  },
  {
   "cell_type": "code",
   "execution_count": null,
   "id": "c6f4f992",
   "metadata": {},
   "outputs": [],
   "source": []
  }
 ],
 "metadata": {
  "kernelspec": {
   "display_name": "Python 3 (ipykernel)",
   "language": "python",
   "name": "python3"
  },
  "language_info": {
   "codemirror_mode": {
    "name": "ipython",
    "version": 3
   },
   "file_extension": ".py",
   "mimetype": "text/x-python",
   "name": "python",
   "nbconvert_exporter": "python",
   "pygments_lexer": "ipython3",
   "version": "3.11.5"
  }
 },
 "nbformat": 4,
 "nbformat_minor": 5
}
